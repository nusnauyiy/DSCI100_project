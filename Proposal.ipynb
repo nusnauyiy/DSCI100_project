{
 "cells": [
  {
   "cell_type": "markdown",
   "metadata": {},
   "source": [
    "# Title"
   ]
  },
  {
   "cell_type": "markdown",
   "metadata": {},
   "source": [
    "## Introduction\n",
    "Pulsars belong to a family of objects called neutron stars. These are basically “dead” stars – what results when a star more massive than the sun runs out of fuel and collapses on itself. Neutron stars are typically 20-24 km., but can contain twice the mass of the sun [[1]](https://www.space.com/32661-pulsars.html). A characteristic property of pulsars are their periodic bursts of emissions produced by their beams of light. \n",
    " \n",
    "Pulsars are used to study extreme states of matter, test general relativity, and search for planets outside our solar system. Identifying pulsars, however, is not a straightforward task because man-made radio frequencies interfere with the data streams.\n",
    " \n",
    "To help properly classify a data sample as either a pulsar or noise (i.e. man-made frequencies), scientists use two “profiles”. The first profile, the integrated profile, is created by stacking the individual bursts of emission from a pulsar. Pulses arrive at different times across different radio frequencies, and to account for this scientists use the DM-SNR (“dispersion-measure-signal-to-noise-ratio”) curve, which constitutes the second “profile.”  \n",
    "\n",
    "Our dataset contains eight columns, with each column representing a numerical characteristic of the pulsar candidates. Each variable appears once for the integrated pulse profile, and once for the DM-SNR curve. The variables are:\n",
    "\n",
    "* Mean\n",
    "* Standard deviation\n",
    "* Kurtosis – (how heavily the tails of a distribution differ from the tails of a normal distribution)\n",
    "* Skewness – (the asymmetry in a normal distribution)\n",
    "\n",
    "What we want to know is, given the mean, standard deviation, kurtosis, and skewness of both the integrated profile and the DM-SNR curve of a sample of radio-wave radiation, is the source of the radiation a pulsar or noise?\n",
    "\n",
    "[[1]](https://www.space.com/32661-pulsars.html) _What are Pulsars?_ Space.com\n",
    "\n",
    "[[2]](https://as595.github.io/classification/) _Understanding Classification_ CSC2019 - University of Manchester"
   ]
  },
  {
   "cell_type": "markdown",
   "metadata": {},
   "source": [
    "## Preliminary Exploratory Data Analysis"
   ]
  },
  {
   "cell_type": "code",
   "execution_count": 1,
   "metadata": {
    "scrolled": false
   },
   "outputs": [
    {
     "name": "stderr",
     "output_type": "stream",
     "text": [
      "── \u001b[1mAttaching packages\u001b[22m ─────────────────────────────────────── tidyverse 1.2.1 ──\n",
      "\u001b[32m✔\u001b[39m \u001b[34mggplot2\u001b[39m 3.2.0     \u001b[32m✔\u001b[39m \u001b[34mpurrr  \u001b[39m 0.3.2\n",
      "\u001b[32m✔\u001b[39m \u001b[34mtibble \u001b[39m 2.1.3     \u001b[32m✔\u001b[39m \u001b[34mdplyr  \u001b[39m 0.8.3\n",
      "\u001b[32m✔\u001b[39m \u001b[34mtidyr  \u001b[39m 0.8.3     \u001b[32m✔\u001b[39m \u001b[34mstringr\u001b[39m 1.4.0\n",
      "\u001b[32m✔\u001b[39m \u001b[34mreadr  \u001b[39m 1.3.1     \u001b[32m✔\u001b[39m \u001b[34mforcats\u001b[39m 0.4.0\n",
      "── \u001b[1mConflicts\u001b[22m ────────────────────────────────────────── tidyverse_conflicts() ──\n",
      "\u001b[31m✖\u001b[39m \u001b[34mdplyr\u001b[39m::\u001b[32mfilter()\u001b[39m masks \u001b[34mstats\u001b[39m::filter()\n",
      "\u001b[31m✖\u001b[39m \u001b[34mdplyr\u001b[39m::\u001b[32mlag()\u001b[39m    masks \u001b[34mstats\u001b[39m::lag()\n",
      "Loading required package: xml2\n",
      "\n",
      "Attaching package: ‘rvest’\n",
      "\n",
      "The following object is masked from ‘package:purrr’:\n",
      "\n",
      "    pluck\n",
      "\n",
      "The following object is masked from ‘package:readr’:\n",
      "\n",
      "    guess_encoding\n",
      "\n",
      "Parsed with column specification:\n",
      "cols(\n",
      "  X1 = \u001b[32mcol_double()\u001b[39m,\n",
      "  X2 = \u001b[32mcol_double()\u001b[39m,\n",
      "  X3 = \u001b[32mcol_double()\u001b[39m,\n",
      "  X4 = \u001b[32mcol_double()\u001b[39m,\n",
      "  X5 = \u001b[32mcol_double()\u001b[39m,\n",
      "  X6 = \u001b[32mcol_double()\u001b[39m,\n",
      "  X7 = \u001b[32mcol_double()\u001b[39m,\n",
      "  X8 = \u001b[32mcol_double()\u001b[39m,\n",
      "  X9 = \u001b[32mcol_double()\u001b[39m\n",
      ")\n"
     ]
    },
    {
     "data": {
      "text/html": [
       "<table>\n",
       "<caption>A tibble: 6 × 9</caption>\n",
       "<thead>\n",
       "\t<tr><th scope=col>mean_integrated</th><th scope=col>sd_integrated</th><th scope=col>kurtosis_integrated</th><th scope=col>skew_integrated</th><th scope=col>mean_DMSNR</th><th scope=col>sd_DMSNR</th><th scope=col>kurtosis_DMSNR</th><th scope=col>skew_DMSNR</th><th scope=col>target_class</th></tr>\n",
       "\t<tr><th scope=col>&lt;dbl&gt;</th><th scope=col>&lt;dbl&gt;</th><th scope=col>&lt;dbl&gt;</th><th scope=col>&lt;dbl&gt;</th><th scope=col>&lt;dbl&gt;</th><th scope=col>&lt;dbl&gt;</th><th scope=col>&lt;dbl&gt;</th><th scope=col>&lt;dbl&gt;</th><th scope=col>&lt;fct&gt;</th></tr>\n",
       "</thead>\n",
       "<tbody>\n",
       "\t<tr><td>140.56250</td><td>55.68378</td><td>-0.23457141</td><td>-0.6996484</td><td>3.199833</td><td>19.11043</td><td> 7.975532</td><td> 74.24222</td><td>0</td></tr>\n",
       "\t<tr><td>102.50781</td><td>58.88243</td><td> 0.46531815</td><td>-0.5150879</td><td>1.677258</td><td>14.86015</td><td>10.576487</td><td>127.39358</td><td>0</td></tr>\n",
       "\t<tr><td>103.01562</td><td>39.34165</td><td> 0.32332837</td><td> 1.0511644</td><td>3.121237</td><td>21.74467</td><td> 7.735822</td><td> 63.17191</td><td>0</td></tr>\n",
       "\t<tr><td>136.75000</td><td>57.17845</td><td>-0.06841464</td><td>-0.6362384</td><td>3.642977</td><td>20.95928</td><td> 6.896499</td><td> 53.59366</td><td>0</td></tr>\n",
       "\t<tr><td> 88.72656</td><td>40.67223</td><td> 0.60086608</td><td> 1.1234917</td><td>1.178930</td><td>11.46872</td><td>14.269573</td><td>252.56731</td><td>0</td></tr>\n",
       "\t<tr><td> 93.57031</td><td>46.69811</td><td> 0.53190485</td><td> 0.4167211</td><td>1.636288</td><td>14.54507</td><td>10.621748</td><td>131.39400</td><td>0</td></tr>\n",
       "</tbody>\n",
       "</table>\n"
      ],
      "text/latex": [
       "A tibble: 6 × 9\n",
       "\\begin{tabular}{r|lllllllll}\n",
       " mean\\_integrated & sd\\_integrated & kurtosis\\_integrated & skew\\_integrated & mean\\_DMSNR & sd\\_DMSNR & kurtosis\\_DMSNR & skew\\_DMSNR & target\\_class\\\\\n",
       " <dbl> & <dbl> & <dbl> & <dbl> & <dbl> & <dbl> & <dbl> & <dbl> & <fct>\\\\\n",
       "\\hline\n",
       "\t 140.56250 & 55.68378 & -0.23457141 & -0.6996484 & 3.199833 & 19.11043 &  7.975532 &  74.24222 & 0\\\\\n",
       "\t 102.50781 & 58.88243 &  0.46531815 & -0.5150879 & 1.677258 & 14.86015 & 10.576487 & 127.39358 & 0\\\\\n",
       "\t 103.01562 & 39.34165 &  0.32332837 &  1.0511644 & 3.121237 & 21.74467 &  7.735822 &  63.17191 & 0\\\\\n",
       "\t 136.75000 & 57.17845 & -0.06841464 & -0.6362384 & 3.642977 & 20.95928 &  6.896499 &  53.59366 & 0\\\\\n",
       "\t  88.72656 & 40.67223 &  0.60086608 &  1.1234917 & 1.178930 & 11.46872 & 14.269573 & 252.56731 & 0\\\\\n",
       "\t  93.57031 & 46.69811 &  0.53190485 &  0.4167211 & 1.636288 & 14.54507 & 10.621748 & 131.39400 & 0\\\\\n",
       "\\end{tabular}\n"
      ],
      "text/markdown": [
       "\n",
       "A tibble: 6 × 9\n",
       "\n",
       "| mean_integrated &lt;dbl&gt; | sd_integrated &lt;dbl&gt; | kurtosis_integrated &lt;dbl&gt; | skew_integrated &lt;dbl&gt; | mean_DMSNR &lt;dbl&gt; | sd_DMSNR &lt;dbl&gt; | kurtosis_DMSNR &lt;dbl&gt; | skew_DMSNR &lt;dbl&gt; | target_class &lt;fct&gt; |\n",
       "|---|---|---|---|---|---|---|---|---|\n",
       "| 140.56250 | 55.68378 | -0.23457141 | -0.6996484 | 3.199833 | 19.11043 |  7.975532 |  74.24222 | 0 |\n",
       "| 102.50781 | 58.88243 |  0.46531815 | -0.5150879 | 1.677258 | 14.86015 | 10.576487 | 127.39358 | 0 |\n",
       "| 103.01562 | 39.34165 |  0.32332837 |  1.0511644 | 3.121237 | 21.74467 |  7.735822 |  63.17191 | 0 |\n",
       "| 136.75000 | 57.17845 | -0.06841464 | -0.6362384 | 3.642977 | 20.95928 |  6.896499 |  53.59366 | 0 |\n",
       "|  88.72656 | 40.67223 |  0.60086608 |  1.1234917 | 1.178930 | 11.46872 | 14.269573 | 252.56731 | 0 |\n",
       "|  93.57031 | 46.69811 |  0.53190485 |  0.4167211 | 1.636288 | 14.54507 | 10.621748 | 131.39400 | 0 |\n",
       "\n"
      ],
      "text/plain": [
       "  mean_integrated sd_integrated kurtosis_integrated skew_integrated mean_DMSNR\n",
       "1 140.56250       55.68378      -0.23457141         -0.6996484      3.199833  \n",
       "2 102.50781       58.88243       0.46531815         -0.5150879      1.677258  \n",
       "3 103.01562       39.34165       0.32332837          1.0511644      3.121237  \n",
       "4 136.75000       57.17845      -0.06841464         -0.6362384      3.642977  \n",
       "5  88.72656       40.67223       0.60086608          1.1234917      1.178930  \n",
       "6  93.57031       46.69811       0.53190485          0.4167211      1.636288  \n",
       "  sd_DMSNR kurtosis_DMSNR skew_DMSNR target_class\n",
       "1 19.11043  7.975532       74.24222  0           \n",
       "2 14.86015 10.576487      127.39358  0           \n",
       "3 21.74467  7.735822       63.17191  0           \n",
       "4 20.95928  6.896499       53.59366  0           \n",
       "5 11.46872 14.269573      252.56731  0           \n",
       "6 14.54507 10.621748      131.39400  0           "
      ]
     },
     "metadata": {},
     "output_type": "display_data"
    }
   ],
   "source": [
    "library(tidyverse)\n",
    "library(repr)\n",
    "library(rvest)\n",
    "library(stringr)\n",
    "\n",
    "temp <- tempfile()\n",
    "download.file(\"https://archive.ics.uci.edu/ml/machine-learning-databases/00372/HTRU2.zip\", temp)\n",
    "pulsar_file <- unz(temp, \"HTRU_2.csv\")\n",
    "pulsar <- read_csv(pulsar_file, col_names = FALSE)\n",
    "colnames(pulsar) = c(\"mean_integrated\", \"sd_integrated\", \"kurtosis_integrated\", \"skew_integrated\", \"mean_DMSNR\", \"sd_DMSNR\", \"kurtosis_DMSNR\", \"skew_DMSNR\", \"target_class\")\n",
    "pulsar = mutate(pulsar, target_class = as.factor(target_class))\n",
    "head(pulsar)"
   ]
  },
  {
   "cell_type": "markdown",
   "metadata": {},
   "source": [
    "Using the training set, we summarized the data into the table below. We grouped by the target_class column, then used summarize to count the number of instances for each class."
   ]
  },
  {
   "cell_type": "code",
   "execution_count": 2,
   "metadata": {},
   "outputs": [
    {
     "data": {
      "text/html": [
       "<table>\n",
       "<caption>A tibble: 2 × 2</caption>\n",
       "<thead>\n",
       "\t<tr><th scope=col>target_class</th><th scope=col>n</th></tr>\n",
       "\t<tr><th scope=col>&lt;fct&gt;</th><th scope=col>&lt;int&gt;</th></tr>\n",
       "</thead>\n",
       "<tbody>\n",
       "\t<tr><td>0</td><td>16259</td></tr>\n",
       "\t<tr><td>1</td><td> 1639</td></tr>\n",
       "</tbody>\n",
       "</table>\n"
      ],
      "text/latex": [
       "A tibble: 2 × 2\n",
       "\\begin{tabular}{r|ll}\n",
       " target\\_class & n\\\\\n",
       " <fct> & <int>\\\\\n",
       "\\hline\n",
       "\t 0 & 16259\\\\\n",
       "\t 1 &  1639\\\\\n",
       "\\end{tabular}\n"
      ],
      "text/markdown": [
       "\n",
       "A tibble: 2 × 2\n",
       "\n",
       "| target_class &lt;fct&gt; | n &lt;int&gt; |\n",
       "|---|---|\n",
       "| 0 | 16259 |\n",
       "| 1 |  1639 |\n",
       "\n"
      ],
      "text/plain": [
       "  target_class n    \n",
       "1 0            16259\n",
       "2 1             1639"
      ]
     },
     "metadata": {},
     "output_type": "display_data"
    }
   ],
   "source": [
    "pulsar_summarized <- pulsar %>%\n",
    "    group_by(target_class) %>%\n",
    "    summarize(n = n())\n",
    "head(pulsar_summarized)"
   ]
  },
  {
   "cell_type": "markdown",
   "metadata": {},
   "source": [
    "#### _**Might wanna use ggpairs for the visualization part. That's why I didn't include the previous visualizations from the \"project\" notebook file**_"
   ]
  },
  {
   "cell_type": "markdown",
   "metadata": {},
   "source": [
    "## Methods\n",
    "* First, the columns of the raw data must be labelled. Then the data must be sliced into predictor variables and classes/labels. After slicing, both data frames will be standardized. The predictor variables will be left as a data frame. The classes/labels will first be converted into a factor data type, after which the data frame itself will be converted into a vector. At this point, all the data is ready to be fed into the classifier.\n",
    "\n",
    "\n",
    "* We will be using the caret package to train a classifier using the k-nearest neighbours method. All variables except the target_class will be used as predictor variables, totalling eight. The target_class column will be used for the classes/labels. It contains a total of two categorical classes. An optimal k-value, one that yields the highest classification accuracy, will be selected through an automated process.\n",
    "\n",
    "\n",
    "* A confusion matrix [[3]](https://en.wikipedia.org/wiki/Confusion_matrix) will be used to visualize the classification results.\n",
    "\n",
    "[[3]](https://en.wikipedia.org/wiki/Confusion_matrix) _Confusion Matrix_ Wikipedia"
   ]
  }
 ],
 "metadata": {
  "kernelspec": {
   "display_name": "R",
   "language": "R",
   "name": "ir"
  },
  "language_info": {
   "codemirror_mode": "r",
   "file_extension": ".r",
   "mimetype": "text/x-r-source",
   "name": "R",
   "pygments_lexer": "r",
   "version": "3.6.1"
  }
 },
 "nbformat": 4,
 "nbformat_minor": 2
}
