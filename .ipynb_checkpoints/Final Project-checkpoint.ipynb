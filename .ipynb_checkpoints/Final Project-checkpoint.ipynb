{
 "cells": [
  {
   "cell_type": "markdown",
   "metadata": {},
   "source": [
    "# Pulsar Data Classification"
   ]
  },
  {
   "cell_type": "markdown",
   "metadata": {},
   "source": [
    "## Introduction\n",
    "\n",
    "Pulsars belong to a family of objects called neutron stars. These are basically “dead” stars – what results when a star more massive than the sun runs out of fuel and collapses on itself. Neuron stars are typically 20-24 km. but can contain twice the mass of the sun **[1]**. A characteristic property of pulsars are the periodic bursts of emissions, or ‘flickers’, produced by their beams of light. In reality, however, pulsars don’t flicker, they spin. What we perceive to be a flicker is simply the pulsar’s beam of light constantly swinging in and out of view, but the effect is similar to the flicker that a sailor perceives when approaching a lighthouse **[2]**.\n",
    " \n",
    "To help properly classify a data sample as either a pulsar or noise (i.e. man-made frequencies), scientists use two sets of variables. The first set is the integrated profile, which is the result of stacking the individual bursts of emission or ‘flickers’ from a pulsar. Pulses arrive at different times across different radio frequencies. To account for the effect of the delay, scientists fit the shape of the delay in what is the DM-SNR (“dispersion-measure-signal-to-noise-ratio”) curve. This curve constitutes the second set of variables.\n",
    " \n",
    "To build our classification model we use the HTRU2 data set, which “describes a sample of pulsar candidates collected during the High Time Resolution Universe Survey” **[3]**. The data set contains eight continuous variables and one binary variable, with each continuous variable representing a numerical characteristic of the pulsar candidates.  Each continuous variable appears once for the integrated pulse profile, and once for the DM-SNR curve. The binary variable (called Class) appears only once, and takes on the values 0 and 1, with Class = 0 meaning that the pulsar candidate is the result of noise, and Class = 1 meaning that the pulsar candidate is a real pulsar **[4]**.\n",
    " \n",
    "The variables are:\n",
    " \n",
    "Mean\n",
    "- Standard deviation\n",
    "- Kurtosis – (how heavily the tails of a distribution differ from the tails of a normal distribution)\n",
    "- Skewness – (the asymmetry in a normal distribution)\n",
    "- Class\n",
    " \n",
    "The data set contains 17,898 observations, out of which 16,259 are examples caused by noise (Class = 0), and 1,639 are real examples (Class = 1).\n",
    " \n",
    "**What we want to know is, given the mean, standard deviation, kurtosis, and skewness of both the integrated profile and the DM-SNR curve of a sample of radio-wave radiation, is the source of the radiation a real pulsar or noise?**"
   ]
  },
  {
   "cell_type": "markdown",
   "metadata": {},
   "source": [
    "## Methods and Results\n",
    "We applied the K-nearest neighbours algorithm to develop our binary classification model, utilizing all 8 variables available in our data set."
   ]
  },
  {
   "cell_type": "code",
   "execution_count": 2,
   "metadata": {},
   "outputs": [
    {
     "name": "stderr",
     "output_type": "stream",
     "text": [
      "── \u001b[1mAttaching packages\u001b[22m ─────────────────────────────────────── tidyverse 1.2.1 ──\n",
      "\u001b[32m✔\u001b[39m \u001b[34mggplot2\u001b[39m 3.2.0     \u001b[32m✔\u001b[39m \u001b[34mpurrr  \u001b[39m 0.3.2\n",
      "\u001b[32m✔\u001b[39m \u001b[34mtibble \u001b[39m 2.1.3     \u001b[32m✔\u001b[39m \u001b[34mdplyr  \u001b[39m 0.8.3\n",
      "\u001b[32m✔\u001b[39m \u001b[34mtidyr  \u001b[39m 0.8.3     \u001b[32m✔\u001b[39m \u001b[34mstringr\u001b[39m 1.4.0\n",
      "\u001b[32m✔\u001b[39m \u001b[34mreadr  \u001b[39m 1.3.1     \u001b[32m✔\u001b[39m \u001b[34mforcats\u001b[39m 0.4.0\n",
      "── \u001b[1mConflicts\u001b[22m ────────────────────────────────────────── tidyverse_conflicts() ──\n",
      "\u001b[31m✖\u001b[39m \u001b[34mdplyr\u001b[39m::\u001b[32mfilter()\u001b[39m masks \u001b[34mstats\u001b[39m::filter()\n",
      "\u001b[31m✖\u001b[39m \u001b[34mdplyr\u001b[39m::\u001b[32mlag()\u001b[39m    masks \u001b[34mstats\u001b[39m::lag()\n",
      "Loading required package: xml2\n",
      "\n",
      "Attaching package: ‘rvest’\n",
      "\n",
      "The following object is masked from ‘package:purrr’:\n",
      "\n",
      "    pluck\n",
      "\n",
      "The following object is masked from ‘package:readr’:\n",
      "\n",
      "    guess_encoding\n",
      "\n",
      "Loading required package: lattice\n",
      "\n",
      "Attaching package: ‘caret’\n",
      "\n",
      "The following object is masked from ‘package:purrr’:\n",
      "\n",
      "    lift\n",
      "\n",
      "\n",
      "Attaching package: ‘reshape’\n",
      "\n",
      "The following object is masked from ‘package:dplyr’:\n",
      "\n",
      "    rename\n",
      "\n",
      "The following objects are masked from ‘package:tidyr’:\n",
      "\n",
      "    expand, smiths\n",
      "\n",
      "Parsed with column specification:\n",
      "cols(\n",
      "  X1 = \u001b[32mcol_double()\u001b[39m,\n",
      "  X2 = \u001b[32mcol_double()\u001b[39m,\n",
      "  X3 = \u001b[32mcol_double()\u001b[39m,\n",
      "  X4 = \u001b[32mcol_double()\u001b[39m,\n",
      "  X5 = \u001b[32mcol_double()\u001b[39m,\n",
      "  X6 = \u001b[32mcol_double()\u001b[39m,\n",
      "  X7 = \u001b[32mcol_double()\u001b[39m,\n",
      "  X8 = \u001b[32mcol_double()\u001b[39m,\n",
      "  X9 = \u001b[32mcol_double()\u001b[39m\n",
      ")\n"
     ]
    },
    {
     "data": {
      "text/html": [
       "<table>\n",
       "<caption>A tibble: 6 × 9</caption>\n",
       "<thead>\n",
       "\t<tr><th scope=col>mean_integrated</th><th scope=col>sd_integrated</th><th scope=col>kurtosis_integrated</th><th scope=col>skew_integrated</th><th scope=col>mean_DMSNR</th><th scope=col>sd_DMSNR</th><th scope=col>kurtosis_DMSNR</th><th scope=col>skew_DMSNR</th><th scope=col>target_class</th></tr>\n",
       "\t<tr><th scope=col>&lt;dbl&gt;</th><th scope=col>&lt;dbl&gt;</th><th scope=col>&lt;dbl&gt;</th><th scope=col>&lt;dbl&gt;</th><th scope=col>&lt;dbl&gt;</th><th scope=col>&lt;dbl&gt;</th><th scope=col>&lt;dbl&gt;</th><th scope=col>&lt;dbl&gt;</th><th scope=col>&lt;fct&gt;</th></tr>\n",
       "</thead>\n",
       "<tbody>\n",
       "\t<tr><td>140.56250</td><td>55.68378</td><td>-0.23457141</td><td>-0.6996484</td><td>3.199833</td><td>19.11043</td><td> 7.975532</td><td> 74.24222</td><td>0</td></tr>\n",
       "\t<tr><td>102.50781</td><td>58.88243</td><td> 0.46531815</td><td>-0.5150879</td><td>1.677258</td><td>14.86015</td><td>10.576487</td><td>127.39358</td><td>0</td></tr>\n",
       "\t<tr><td>103.01562</td><td>39.34165</td><td> 0.32332837</td><td> 1.0511644</td><td>3.121237</td><td>21.74467</td><td> 7.735822</td><td> 63.17191</td><td>0</td></tr>\n",
       "\t<tr><td>136.75000</td><td>57.17845</td><td>-0.06841464</td><td>-0.6362384</td><td>3.642977</td><td>20.95928</td><td> 6.896499</td><td> 53.59366</td><td>0</td></tr>\n",
       "\t<tr><td> 88.72656</td><td>40.67223</td><td> 0.60086608</td><td> 1.1234917</td><td>1.178930</td><td>11.46872</td><td>14.269573</td><td>252.56731</td><td>0</td></tr>\n",
       "\t<tr><td> 93.57031</td><td>46.69811</td><td> 0.53190485</td><td> 0.4167211</td><td>1.636288</td><td>14.54507</td><td>10.621748</td><td>131.39400</td><td>0</td></tr>\n",
       "</tbody>\n",
       "</table>\n"
      ],
      "text/latex": [
       "A tibble: 6 × 9\n",
       "\\begin{tabular}{r|lllllllll}\n",
       " mean\\_integrated & sd\\_integrated & kurtosis\\_integrated & skew\\_integrated & mean\\_DMSNR & sd\\_DMSNR & kurtosis\\_DMSNR & skew\\_DMSNR & target\\_class\\\\\n",
       " <dbl> & <dbl> & <dbl> & <dbl> & <dbl> & <dbl> & <dbl> & <dbl> & <fct>\\\\\n",
       "\\hline\n",
       "\t 140.56250 & 55.68378 & -0.23457141 & -0.6996484 & 3.199833 & 19.11043 &  7.975532 &  74.24222 & 0\\\\\n",
       "\t 102.50781 & 58.88243 &  0.46531815 & -0.5150879 & 1.677258 & 14.86015 & 10.576487 & 127.39358 & 0\\\\\n",
       "\t 103.01562 & 39.34165 &  0.32332837 &  1.0511644 & 3.121237 & 21.74467 &  7.735822 &  63.17191 & 0\\\\\n",
       "\t 136.75000 & 57.17845 & -0.06841464 & -0.6362384 & 3.642977 & 20.95928 &  6.896499 &  53.59366 & 0\\\\\n",
       "\t  88.72656 & 40.67223 &  0.60086608 &  1.1234917 & 1.178930 & 11.46872 & 14.269573 & 252.56731 & 0\\\\\n",
       "\t  93.57031 & 46.69811 &  0.53190485 &  0.4167211 & 1.636288 & 14.54507 & 10.621748 & 131.39400 & 0\\\\\n",
       "\\end{tabular}\n"
      ],
      "text/markdown": [
       "\n",
       "A tibble: 6 × 9\n",
       "\n",
       "| mean_integrated &lt;dbl&gt; | sd_integrated &lt;dbl&gt; | kurtosis_integrated &lt;dbl&gt; | skew_integrated &lt;dbl&gt; | mean_DMSNR &lt;dbl&gt; | sd_DMSNR &lt;dbl&gt; | kurtosis_DMSNR &lt;dbl&gt; | skew_DMSNR &lt;dbl&gt; | target_class &lt;fct&gt; |\n",
       "|---|---|---|---|---|---|---|---|---|\n",
       "| 140.56250 | 55.68378 | -0.23457141 | -0.6996484 | 3.199833 | 19.11043 |  7.975532 |  74.24222 | 0 |\n",
       "| 102.50781 | 58.88243 |  0.46531815 | -0.5150879 | 1.677258 | 14.86015 | 10.576487 | 127.39358 | 0 |\n",
       "| 103.01562 | 39.34165 |  0.32332837 |  1.0511644 | 3.121237 | 21.74467 |  7.735822 |  63.17191 | 0 |\n",
       "| 136.75000 | 57.17845 | -0.06841464 | -0.6362384 | 3.642977 | 20.95928 |  6.896499 |  53.59366 | 0 |\n",
       "|  88.72656 | 40.67223 |  0.60086608 |  1.1234917 | 1.178930 | 11.46872 | 14.269573 | 252.56731 | 0 |\n",
       "|  93.57031 | 46.69811 |  0.53190485 |  0.4167211 | 1.636288 | 14.54507 | 10.621748 | 131.39400 | 0 |\n",
       "\n"
      ],
      "text/plain": [
       "  mean_integrated sd_integrated kurtosis_integrated skew_integrated mean_DMSNR\n",
       "1 140.56250       55.68378      -0.23457141         -0.6996484      3.199833  \n",
       "2 102.50781       58.88243       0.46531815         -0.5150879      1.677258  \n",
       "3 103.01562       39.34165       0.32332837          1.0511644      3.121237  \n",
       "4 136.75000       57.17845      -0.06841464         -0.6362384      3.642977  \n",
       "5  88.72656       40.67223       0.60086608          1.1234917      1.178930  \n",
       "6  93.57031       46.69811       0.53190485          0.4167211      1.636288  \n",
       "  sd_DMSNR kurtosis_DMSNR skew_DMSNR target_class\n",
       "1 19.11043  7.975532       74.24222  0           \n",
       "2 14.86015 10.576487      127.39358  0           \n",
       "3 21.74467  7.735822       63.17191  0           \n",
       "4 20.95928  6.896499       53.59366  0           \n",
       "5 11.46872 14.269573      252.56731  0           \n",
       "6 14.54507 10.621748      131.39400  0           "
      ]
     },
     "metadata": {},
     "output_type": "display_data"
    }
   ],
   "source": [
    "#load all necessary libraries for data analysis\n",
    "library(tidyverse)\n",
    "library(repr)\n",
    "library(rvest)\n",
    "library(stringr)\n",
    "library(caret)\n",
    "library(ggplot2)\n",
    "library(reshape)\n",
    "\n",
    "#reading data from the web\n",
    "temp <- tempfile()\n",
    "download.file(\"https://archive.ics.uci.edu/ml/machine-learning-databases/00372/HTRU2.zip\", temp)\n",
    "pulsar_file <- unz(temp, \"HTRU_2.csv\")\n",
    "pulsar <- read_csv(pulsar_file, col_names = FALSE)\n",
    "colnames(pulsar) = c(\"mean_integrated\", \"sd_integrated\", \"kurtosis_integrated\", \"skew_integrated\", \"mean_DMSNR\", \"sd_DMSNR\", \"kurtosis_DMSNR\", \"skew_DMSNR\", \"target_class\")\n",
    "pulsar = mutate(pulsar, target_class = as.factor(target_class))\n",
    "head(pulsar)"
   ]
  },
  {
   "cell_type": "markdown",
   "metadata": {},
   "source": [
    "**_Table 1 - Pulsar data_**"
   ]
  },
  {
   "cell_type": "markdown",
   "metadata": {},
   "source": [
    "Below is a quick exploration of how the predictors relate to one another by looking at their correlations."
   ]
  },
  {
   "cell_type": "code",
   "execution_count": 43,
   "metadata": {},
   "outputs": [
    {
     "data": {
      "text/html": [
       "<table>\n",
       "<caption>A data.frame: 6 × 3</caption>\n",
       "<thead>\n",
       "\t<tr><th scope=col>X1</th><th scope=col>X2</th><th scope=col>value</th></tr>\n",
       "\t<tr><th scope=col>&lt;fct&gt;</th><th scope=col>&lt;fct&gt;</th><th scope=col>&lt;dbl&gt;</th></tr>\n",
       "</thead>\n",
       "<tbody>\n",
       "\t<tr><td>mean_integrated    </td><td>mean_integrated</td><td> 1.00</td></tr>\n",
       "\t<tr><td>sd_integrated      </td><td>mean_integrated</td><td> 0.55</td></tr>\n",
       "\t<tr><td>kurtosis_integrated</td><td>mean_integrated</td><td>-0.87</td></tr>\n",
       "\t<tr><td>skew_integrated    </td><td>mean_integrated</td><td>-0.74</td></tr>\n",
       "\t<tr><td>mean_DMSNR         </td><td>mean_integrated</td><td>-0.30</td></tr>\n",
       "\t<tr><td>sd_DMSNR           </td><td>mean_integrated</td><td>-0.31</td></tr>\n",
       "</tbody>\n",
       "</table>\n"
      ],
      "text/latex": [
       "A data.frame: 6 × 3\n",
       "\\begin{tabular}{r|lll}\n",
       " X1 & X2 & value\\\\\n",
       " <fct> & <fct> & <dbl>\\\\\n",
       "\\hline\n",
       "\t mean\\_integrated     & mean\\_integrated &  1.00\\\\\n",
       "\t sd\\_integrated       & mean\\_integrated &  0.55\\\\\n",
       "\t kurtosis\\_integrated & mean\\_integrated & -0.87\\\\\n",
       "\t skew\\_integrated     & mean\\_integrated & -0.74\\\\\n",
       "\t mean\\_DMSNR          & mean\\_integrated & -0.30\\\\\n",
       "\t sd\\_DMSNR            & mean\\_integrated & -0.31\\\\\n",
       "\\end{tabular}\n"
      ],
      "text/markdown": [
       "\n",
       "A data.frame: 6 × 3\n",
       "\n",
       "| X1 &lt;fct&gt; | X2 &lt;fct&gt; | value &lt;dbl&gt; |\n",
       "|---|---|---|\n",
       "| mean_integrated     | mean_integrated |  1.00 |\n",
       "| sd_integrated       | mean_integrated |  0.55 |\n",
       "| kurtosis_integrated | mean_integrated | -0.87 |\n",
       "| skew_integrated     | mean_integrated | -0.74 |\n",
       "| mean_DMSNR          | mean_integrated | -0.30 |\n",
       "| sd_DMSNR            | mean_integrated | -0.31 |\n",
       "\n"
      ],
      "text/plain": [
       "  X1                  X2              value\n",
       "1 mean_integrated     mean_integrated  1.00\n",
       "2 sd_integrated       mean_integrated  0.55\n",
       "3 kurtosis_integrated mean_integrated -0.87\n",
       "4 skew_integrated     mean_integrated -0.74\n",
       "5 mean_DMSNR          mean_integrated -0.30\n",
       "6 sd_DMSNR            mean_integrated -0.31"
      ]
     },
     "metadata": {},
     "output_type": "display_data"
    }
   ],
   "source": [
    "options(repr.plot.width = 6, repr.plot.height = 6)\n",
    "\n",
    "pulsar_num = mutate(pulsar, target_class = as.numeric(target_class))\n",
    "cormat <- round(cor(pulsar_num),2)\n",
    "melted_cormat <- melt(cormat)\n",
    "head(melted_cormat)"
   ]
  },
  {
   "cell_type": "markdown",
   "metadata": {},
   "source": [
    "**_Table 2 - Predictors dorrelation raw data_**"
   ]
  },
  {
   "cell_type": "code",
   "execution_count": 44,
   "metadata": {},
   "outputs": [
    {
     "data": {
      "image/png": "[encoded data removed]",
      "text/plain": [
       "plot without title"
      ]
     },
     "metadata": {},
     "output_type": "display_data"
    }
   ],
   "source": [
    "ggplot(data = melted_cormat, aes(X2, X1, fill = value))+\n",
    "ggtitle(\"Predictors Correlation\") +\n",
    "labs(x = \" \", y = \" \") +\n",
    " geom_tile(color = \"white\")+\n",
    " scale_fill_gradient2(low = \"blue\", high = \"red\", mid = \"white\", \n",
    "   midpoint = 0, limit = c(-1,1), space = \"Lab\", \n",
    " name=\"Pearson\\nCorrelation\") +\n",
    " theme_minimal()+ \n",
    " theme(axis.text.x = element_text(angle = 45, vjust = 1, \n",
    "    size = 12, hjust = 1))+\n",
    " coord_fixed()"
   ]
  },
  {
   "cell_type": "markdown",
   "metadata": {},
   "source": [
    "**_Figure 1 - Predictors correlation_**"
   ]
  },
  {
   "cell_type": "markdown",
   "metadata": {},
   "source": [
    "### Balancing classes"
   ]
  },
  {
   "cell_type": "markdown",
   "metadata": {},
   "source": [
    "By using `group_by` and `summarize`, we discovered a class imbalance in our data—observations with negative class labels were significantly more common than those with positive ones.  There are 16259 negative labels and only 1639 positive label results. This will bring the problem on the accuracy especially when using a high k value. So here we will replicate rare observations multiple times in our data set to give them more voting power in the K-nearest neighbour algorithm. In order to do this, we will use the `upSample` function from the `caret` library."
   ]
  },
  {
   "cell_type": "code",
   "execution_count": 8,
   "metadata": {},
   "outputs": [
    {
     "data": {
      "text/html": [
       "<table>\n",
       "<caption>A tibble: 2 × 2</caption>\n",
       "<thead>\n",
       "\t<tr><th scope=col>target_class</th><th scope=col>n</th></tr>\n",
       "\t<tr><th scope=col>&lt;fct&gt;</th><th scope=col>&lt;int&gt;</th></tr>\n",
       "</thead>\n",
       "<tbody>\n",
       "\t<tr><td>0</td><td>16259</td></tr>\n",
       "\t<tr><td>1</td><td> 1639</td></tr>\n",
       "</tbody>\n",
       "</table>\n"
      ],
      "text/latex": [
       "A tibble: 2 × 2\n",
       "\\begin{tabular}{r|ll}\n",
       " target\\_class & n\\\\\n",
       " <fct> & <int>\\\\\n",
       "\\hline\n",
       "\t 0 & 16259\\\\\n",
       "\t 1 &  1639\\\\\n",
       "\\end{tabular}\n"
      ],
      "text/markdown": [
       "\n",
       "A tibble: 2 × 2\n",
       "\n",
       "| target_class &lt;fct&gt; | n &lt;int&gt; |\n",
       "|---|---|\n",
       "| 0 | 16259 |\n",
       "| 1 |  1639 |\n",
       "\n"
      ],
      "text/plain": [
       "  target_class n    \n",
       "1 0            16259\n",
       "2 1             1639"
      ]
     },
     "metadata": {},
     "output_type": "display_data"
    }
   ],
   "source": [
    "# view number of instances of each target_class\n",
    "pulsar_summarized <- pulsar %>%\n",
    "    group_by(target_class) %>%\n",
    "    summarize(n = n())\n",
    "head(pulsar_summarized)"
   ]
  },
  {
   "cell_type": "markdown",
   "metadata": {},
   "source": [
    "**_Table 3 - Number of observations by class before upsample_**"
   ]
  },
  {
   "cell_type": "code",
   "execution_count": 9,
   "metadata": {},
   "outputs": [
    {
     "data": {
      "text/html": [
       "<table>\n",
       "<caption>A tibble: 2 × 2</caption>\n",
       "<thead>\n",
       "\t<tr><th scope=col>Class</th><th scope=col>n</th></tr>\n",
       "\t<tr><th scope=col>&lt;fct&gt;</th><th scope=col>&lt;int&gt;</th></tr>\n",
       "</thead>\n",
       "<tbody>\n",
       "\t<tr><td>0</td><td>16259</td></tr>\n",
       "\t<tr><td>1</td><td>16259</td></tr>\n",
       "</tbody>\n",
       "</table>\n"
      ],
      "text/latex": [
       "A tibble: 2 × 2\n",
       "\\begin{tabular}{r|ll}\n",
       " Class & n\\\\\n",
       " <fct> & <int>\\\\\n",
       "\\hline\n",
       "\t 0 & 16259\\\\\n",
       "\t 1 & 16259\\\\\n",
       "\\end{tabular}\n"
      ],
      "text/markdown": [
       "\n",
       "A tibble: 2 × 2\n",
       "\n",
       "| Class &lt;fct&gt; | n &lt;int&gt; |\n",
       "|---|---|\n",
       "| 0 | 16259 |\n",
       "| 1 | 16259 |\n",
       "\n"
      ],
      "text/plain": [
       "  Class n    \n",
       "1 0     16259\n",
       "2 1     16259"
      ]
     },
     "metadata": {},
     "output_type": "display_data"
    }
   ],
   "source": [
    "set.seed(12345)\n",
    "\n",
    "# balance the observations between classes, here target_class column is renamed as Class\n",
    "pulsar_balanced <- upSample(x = select(pulsar, -target_class),\n",
    "            y = select(pulsar, target_class) %>% unlist())\n",
    "\n",
    "# view number of instances of each Class\n",
    "pulsar_summarized <- pulsar_balanced %>%\n",
    "    group_by(Class) %>%\n",
    "    summarize(n = n())\n",
    "head(pulsar_summarized)"
   ]
  },
  {
   "cell_type": "markdown",
   "metadata": {},
   "source": [
    "**_Table 4 - Number of observations by class after upsample_**"
   ]
  },
  {
   "cell_type": "markdown",
   "metadata": {},
   "source": [
    "### Splitting and Standardizing the Dataset"
   ]
  },
  {
   "cell_type": "markdown",
   "metadata": {},
   "source": [
    "We then split our balanced data into training and testing sets using `createDataPartition`, with a train-test split of 75%-25%. "
   ]
  },
  {
   "cell_type": "code",
   "execution_count": 11,
   "metadata": {},
   "outputs": [
    {
     "data": {
      "text/html": [
       "<table>\n",
       "<caption>A tibble: 6 × 9</caption>\n",
       "<thead>\n",
       "\t<tr><th scope=col>mean_integrated</th><th scope=col>sd_integrated</th><th scope=col>kurtosis_integrated</th><th scope=col>skew_integrated</th><th scope=col>mean_DMSNR</th><th scope=col>sd_DMSNR</th><th scope=col>kurtosis_DMSNR</th><th scope=col>skew_DMSNR</th><th scope=col>target_class</th></tr>\n",
       "\t<tr><th scope=col>&lt;dbl&gt;</th><th scope=col>&lt;dbl&gt;</th><th scope=col>&lt;dbl&gt;</th><th scope=col>&lt;dbl&gt;</th><th scope=col>&lt;dbl&gt;</th><th scope=col>&lt;dbl&gt;</th><th scope=col>&lt;dbl&gt;</th><th scope=col>&lt;dbl&gt;</th><th scope=col>&lt;fct&gt;</th></tr>\n",
       "</thead>\n",
       "<tbody>\n",
       "\t<tr><td>102.50781</td><td>58.88243</td><td> 0.46531815</td><td>-0.5150879</td><td>1.677258</td><td>14.86015</td><td>10.576487</td><td>127.39358</td><td>0</td></tr>\n",
       "\t<tr><td>103.01562</td><td>39.34165</td><td> 0.32332837</td><td> 1.0511644</td><td>3.121237</td><td>21.74467</td><td> 7.735822</td><td> 63.17191</td><td>0</td></tr>\n",
       "\t<tr><td>136.75000</td><td>57.17845</td><td>-0.06841464</td><td>-0.6362384</td><td>3.642977</td><td>20.95928</td><td> 6.896499</td><td> 53.59366</td><td>0</td></tr>\n",
       "\t<tr><td> 88.72656</td><td>40.67223</td><td> 0.60086608</td><td> 1.1234917</td><td>1.178930</td><td>11.46872</td><td>14.269573</td><td>252.56731</td><td>0</td></tr>\n",
       "\t<tr><td> 93.57031</td><td>46.69811</td><td> 0.53190485</td><td> 0.4167211</td><td>1.636288</td><td>14.54507</td><td>10.621748</td><td>131.39400</td><td>0</td></tr>\n",
       "\t<tr><td>107.25000</td><td>52.62708</td><td> 0.45268802</td><td> 0.1703474</td><td>2.331940</td><td>14.48685</td><td> 9.001004</td><td>107.97251</td><td>0</td></tr>\n",
       "</tbody>\n",
       "</table>\n"
      ],
      "text/latex": [
       "A tibble: 6 × 9\n",
       "\\begin{tabular}{r|lllllllll}\n",
       " mean\\_integrated & sd\\_integrated & kurtosis\\_integrated & skew\\_integrated & mean\\_DMSNR & sd\\_DMSNR & kurtosis\\_DMSNR & skew\\_DMSNR & target\\_class\\\\\n",
       " <dbl> & <dbl> & <dbl> & <dbl> & <dbl> & <dbl> & <dbl> & <dbl> & <fct>\\\\\n",
       "\\hline\n",
       "\t 102.50781 & 58.88243 &  0.46531815 & -0.5150879 & 1.677258 & 14.86015 & 10.576487 & 127.39358 & 0\\\\\n",
       "\t 103.01562 & 39.34165 &  0.32332837 &  1.0511644 & 3.121237 & 21.74467 &  7.735822 &  63.17191 & 0\\\\\n",
       "\t 136.75000 & 57.17845 & -0.06841464 & -0.6362384 & 3.642977 & 20.95928 &  6.896499 &  53.59366 & 0\\\\\n",
       "\t  88.72656 & 40.67223 &  0.60086608 &  1.1234917 & 1.178930 & 11.46872 & 14.269573 & 252.56731 & 0\\\\\n",
       "\t  93.57031 & 46.69811 &  0.53190485 &  0.4167211 & 1.636288 & 14.54507 & 10.621748 & 131.39400 & 0\\\\\n",
       "\t 107.25000 & 52.62708 &  0.45268802 &  0.1703474 & 2.331940 & 14.48685 &  9.001004 & 107.97251 & 0\\\\\n",
       "\\end{tabular}\n"
      ],
      "text/markdown": [
       "\n",
       "A tibble: 6 × 9\n",
       "\n",
       "| mean_integrated &lt;dbl&gt; | sd_integrated &lt;dbl&gt; | kurtosis_integrated &lt;dbl&gt; | skew_integrated &lt;dbl&gt; | mean_DMSNR &lt;dbl&gt; | sd_DMSNR &lt;dbl&gt; | kurtosis_DMSNR &lt;dbl&gt; | skew_DMSNR &lt;dbl&gt; | target_class &lt;fct&gt; |\n",
       "|---|---|---|---|---|---|---|---|---|\n",
       "| 102.50781 | 58.88243 |  0.46531815 | -0.5150879 | 1.677258 | 14.86015 | 10.576487 | 127.39358 | 0 |\n",
       "| 103.01562 | 39.34165 |  0.32332837 |  1.0511644 | 3.121237 | 21.74467 |  7.735822 |  63.17191 | 0 |\n",
       "| 136.75000 | 57.17845 | -0.06841464 | -0.6362384 | 3.642977 | 20.95928 |  6.896499 |  53.59366 | 0 |\n",
       "|  88.72656 | 40.67223 |  0.60086608 |  1.1234917 | 1.178930 | 11.46872 | 14.269573 | 252.56731 | 0 |\n",
       "|  93.57031 | 46.69811 |  0.53190485 |  0.4167211 | 1.636288 | 14.54507 | 10.621748 | 131.39400 | 0 |\n",
       "| 107.25000 | 52.62708 |  0.45268802 |  0.1703474 | 2.331940 | 14.48685 |  9.001004 | 107.97251 | 0 |\n",
       "\n"
      ],
      "text/plain": [
       "  mean_integrated sd_integrated kurtosis_integrated skew_integrated mean_DMSNR\n",
       "1 102.50781       58.88243       0.46531815         -0.5150879      1.677258  \n",
       "2 103.01562       39.34165       0.32332837          1.0511644      3.121237  \n",
       "3 136.75000       57.17845      -0.06841464         -0.6362384      3.642977  \n",
       "4  88.72656       40.67223       0.60086608          1.1234917      1.178930  \n",
       "5  93.57031       46.69811       0.53190485          0.4167211      1.636288  \n",
       "6 107.25000       52.62708       0.45268802          0.1703474      2.331940  \n",
       "  sd_DMSNR kurtosis_DMSNR skew_DMSNR target_class\n",
       "1 14.86015 10.576487      127.39358  0           \n",
       "2 21.74467  7.735822       63.17191  0           \n",
       "3 20.95928  6.896499       53.59366  0           \n",
       "4 11.46872 14.269573      252.56731  0           \n",
       "5 14.54507 10.621748      131.39400  0           \n",
       "6 14.48685  9.001004      107.97251  0           "
      ]
     },
     "metadata": {},
     "output_type": "display_data"
    }
   ],
   "source": [
    "training_rows <- pulsar_balanced %>%\n",
    "    select(Class) %>%\n",
    "    pull() %>%\n",
    "    createDataPartition(p = 0.75, list = FALSE)\n",
    "\n",
    "training_set <- slice(pulsar, training_rows)\n",
    "testing_set <- slice(pulsar, -training_rows)\n",
    "\n",
    "head(training_set)"
   ]
  },
  {
   "cell_type": "markdown",
   "metadata": {},
   "source": [
    "**_Table 5 - Training set_**"
   ]
  },
  {
   "cell_type": "code",
   "execution_count": 12,
   "metadata": {},
   "outputs": [
    {
     "data": {
      "text/html": [
       "<table>\n",
       "<caption>A tibble: 6 × 9</caption>\n",
       "<thead>\n",
       "\t<tr><th scope=col>mean_integrated</th><th scope=col>sd_integrated</th><th scope=col>kurtosis_integrated</th><th scope=col>skew_integrated</th><th scope=col>mean_DMSNR</th><th scope=col>sd_DMSNR</th><th scope=col>kurtosis_DMSNR</th><th scope=col>skew_DMSNR</th><th scope=col>target_class</th></tr>\n",
       "\t<tr><th scope=col>&lt;dbl&gt;</th><th scope=col>&lt;dbl&gt;</th><th scope=col>&lt;dbl&gt;</th><th scope=col>&lt;dbl&gt;</th><th scope=col>&lt;dbl&gt;</th><th scope=col>&lt;dbl&gt;</th><th scope=col>&lt;dbl&gt;</th><th scope=col>&lt;dbl&gt;</th><th scope=col>&lt;fct&gt;</th></tr>\n",
       "</thead>\n",
       "<tbody>\n",
       "\t<tr><td>140.5625</td><td>55.68378</td><td>-0.23457141</td><td>-0.6996484</td><td>3.1998328</td><td>19.110426</td><td> 7.975532</td><td> 74.24222</td><td>0</td></tr>\n",
       "\t<tr><td>119.4844</td><td>48.76506</td><td> 0.03146022</td><td>-0.1121676</td><td>0.9991639</td><td> 9.279612</td><td>19.206230</td><td>479.75657</td><td>0</td></tr>\n",
       "\t<tr><td>130.3828</td><td>39.84406</td><td>-0.15832276</td><td> 0.3895404</td><td>1.2207358</td><td>14.378941</td><td>13.539456</td><td>198.23646</td><td>0</td></tr>\n",
       "\t<tr><td>112.7188</td><td>50.30127</td><td> 0.27939095</td><td>-0.1290107</td><td>8.2817726</td><td>37.810012</td><td> 4.691827</td><td> 21.27621</td><td>0</td></tr>\n",
       "\t<tr><td>123.2109</td><td>51.07801</td><td> 0.17937682</td><td>-0.1772852</td><td>2.1070234</td><td>16.921773</td><td>10.080333</td><td>112.55859</td><td>0</td></tr>\n",
       "\t<tr><td>110.1094</td><td>41.31817</td><td> 0.09486040</td><td> 0.6831126</td><td>1.0100334</td><td>13.026275</td><td>14.666511</td><td>231.20414</td><td>0</td></tr>\n",
       "</tbody>\n",
       "</table>\n"
      ],
      "text/latex": [
       "A tibble: 6 × 9\n",
       "\\begin{tabular}{r|lllllllll}\n",
       " mean\\_integrated & sd\\_integrated & kurtosis\\_integrated & skew\\_integrated & mean\\_DMSNR & sd\\_DMSNR & kurtosis\\_DMSNR & skew\\_DMSNR & target\\_class\\\\\n",
       " <dbl> & <dbl> & <dbl> & <dbl> & <dbl> & <dbl> & <dbl> & <dbl> & <fct>\\\\\n",
       "\\hline\n",
       "\t 140.5625 & 55.68378 & -0.23457141 & -0.6996484 & 3.1998328 & 19.110426 &  7.975532 &  74.24222 & 0\\\\\n",
       "\t 119.4844 & 48.76506 &  0.03146022 & -0.1121676 & 0.9991639 &  9.279612 & 19.206230 & 479.75657 & 0\\\\\n",
       "\t 130.3828 & 39.84406 & -0.15832276 &  0.3895404 & 1.2207358 & 14.378941 & 13.539456 & 198.23646 & 0\\\\\n",
       "\t 112.7188 & 50.30127 &  0.27939095 & -0.1290107 & 8.2817726 & 37.810012 &  4.691827 &  21.27621 & 0\\\\\n",
       "\t 123.2109 & 51.07801 &  0.17937682 & -0.1772852 & 2.1070234 & 16.921773 & 10.080333 & 112.55859 & 0\\\\\n",
       "\t 110.1094 & 41.31817 &  0.09486040 &  0.6831126 & 1.0100334 & 13.026275 & 14.666511 & 231.20414 & 0\\\\\n",
       "\\end{tabular}\n"
      ],
      "text/markdown": [
       "\n",
       "A tibble: 6 × 9\n",
       "\n",
       "| mean_integrated &lt;dbl&gt; | sd_integrated &lt;dbl&gt; | kurtosis_integrated &lt;dbl&gt; | skew_integrated &lt;dbl&gt; | mean_DMSNR &lt;dbl&gt; | sd_DMSNR &lt;dbl&gt; | kurtosis_DMSNR &lt;dbl&gt; | skew_DMSNR &lt;dbl&gt; | target_class &lt;fct&gt; |\n",
       "|---|---|---|---|---|---|---|---|---|\n",
       "| 140.5625 | 55.68378 | -0.23457141 | -0.6996484 | 3.1998328 | 19.110426 |  7.975532 |  74.24222 | 0 |\n",
       "| 119.4844 | 48.76506 |  0.03146022 | -0.1121676 | 0.9991639 |  9.279612 | 19.206230 | 479.75657 | 0 |\n",
       "| 130.3828 | 39.84406 | -0.15832276 |  0.3895404 | 1.2207358 | 14.378941 | 13.539456 | 198.23646 | 0 |\n",
       "| 112.7188 | 50.30127 |  0.27939095 | -0.1290107 | 8.2817726 | 37.810012 |  4.691827 |  21.27621 | 0 |\n",
       "| 123.2109 | 51.07801 |  0.17937682 | -0.1772852 | 2.1070234 | 16.921773 | 10.080333 | 112.55859 | 0 |\n",
       "| 110.1094 | 41.31817 |  0.09486040 |  0.6831126 | 1.0100334 | 13.026275 | 14.666511 | 231.20414 | 0 |\n",
       "\n"
      ],
      "text/plain": [
       "  mean_integrated sd_integrated kurtosis_integrated skew_integrated mean_DMSNR\n",
       "1 140.5625        55.68378      -0.23457141         -0.6996484      3.1998328 \n",
       "2 119.4844        48.76506       0.03146022         -0.1121676      0.9991639 \n",
       "3 130.3828        39.84406      -0.15832276          0.3895404      1.2207358 \n",
       "4 112.7188        50.30127       0.27939095         -0.1290107      8.2817726 \n",
       "5 123.2109        51.07801       0.17937682         -0.1772852      2.1070234 \n",
       "6 110.1094        41.31817       0.09486040          0.6831126      1.0100334 \n",
       "  sd_DMSNR  kurtosis_DMSNR skew_DMSNR target_class\n",
       "1 19.110426  7.975532       74.24222  0           \n",
       "2  9.279612 19.206230      479.75657  0           \n",
       "3 14.378941 13.539456      198.23646  0           \n",
       "4 37.810012  4.691827       21.27621  0           \n",
       "5 16.921773 10.080333      112.55859  0           \n",
       "6 13.026275 14.666511      231.20414  0           "
      ]
     },
     "metadata": {},
     "output_type": "display_data"
    }
   ],
   "source": [
    "head(testing_set)"
   ]
  },
  {
   "cell_type": "markdown",
   "metadata": {},
   "source": [
    "**_Table 6 - Testing set_**"
   ]
  },
  {
   "cell_type": "markdown",
   "metadata": {},
   "source": [
    "To ensure that the scale and center of each variable does not affect the algorithm (that is, since k-nn classification consider the distance between data points, we do not want the predictors to be weighted differently in such calculation), we used the training set to create a scaling transformer and standardized both the training and testing sets."
   ]
  },
  {
   "cell_type": "code",
   "execution_count": 13,
   "metadata": {
    "scrolled": true
   },
   "outputs": [
    {
     "data": {
      "text/html": [
       "<table>\n",
       "<caption>A tibble: 6 × 9</caption>\n",
       "<thead>\n",
       "\t<tr><th scope=col>mean_integrated</th><th scope=col>sd_integrated</th><th scope=col>kurtosis_integrated</th><th scope=col>skew_integrated</th><th scope=col>mean_DMSNR</th><th scope=col>sd_DMSNR</th><th scope=col>kurtosis_DMSNR</th><th scope=col>skew_DMSNR</th><th scope=col>target_class</th></tr>\n",
       "\t<tr><th scope=col>&lt;dbl&gt;</th><th scope=col>&lt;dbl&gt;</th><th scope=col>&lt;dbl&gt;</th><th scope=col>&lt;dbl&gt;</th><th scope=col>&lt;dbl&gt;</th><th scope=col>&lt;dbl&gt;</th><th scope=col>&lt;dbl&gt;</th><th scope=col>&lt;dbl&gt;</th><th scope=col>&lt;fct&gt;</th></tr>\n",
       "</thead>\n",
       "<tbody>\n",
       "\t<tr><td>-0.3315704</td><td> 1.79648779</td><td>-0.01457721</td><td>-0.3710077</td><td>-0.3714409</td><td>-0.5910664</td><td> 0.5038534</td><td> 0.21000533</td><td>0</td></tr>\n",
       "\t<tr><td>-0.3117880</td><td>-1.05148146</td><td>-0.14765118</td><td>-0.1177992</td><td>-0.3227400</td><td>-0.2387426</td><td>-0.1235637</td><td>-0.38763593</td><td>0</td></tr>\n",
       "\t<tr><td> 1.0023681</td><td> 1.54814120</td><td>-0.51479586</td><td>-0.3905935</td><td>-0.3051434</td><td>-0.2789358</td><td>-0.3089449</td><td>-0.47677028</td><td>0</td></tr>\n",
       "\t<tr><td>-0.8684327</td><td>-0.85755679</td><td> 0.11245939</td><td>-0.1061064</td><td>-0.3882479</td><td>-0.7646267</td><td> 1.3195447</td><td> 1.37486110</td><td>0</td></tr>\n",
       "\t<tr><td>-0.6797396</td><td> 0.02068571</td><td> 0.04782837</td><td>-0.2203666</td><td>-0.3728227</td><td>-0.6071905</td><td> 0.5138503</td><td> 0.24723293</td><td>0</td></tr>\n",
       "\t<tr><td>-0.1468337</td><td> 0.88480214</td><td>-0.02641427</td><td>-0.2601967</td><td>-0.3493605</td><td>-0.6101701</td><td> 0.1558769</td><td> 0.02927451</td><td>0</td></tr>\n",
       "</tbody>\n",
       "</table>\n"
      ],
      "text/latex": [
       "A tibble: 6 × 9\n",
       "\\begin{tabular}{r|lllllllll}\n",
       " mean\\_integrated & sd\\_integrated & kurtosis\\_integrated & skew\\_integrated & mean\\_DMSNR & sd\\_DMSNR & kurtosis\\_DMSNR & skew\\_DMSNR & target\\_class\\\\\n",
       " <dbl> & <dbl> & <dbl> & <dbl> & <dbl> & <dbl> & <dbl> & <dbl> & <fct>\\\\\n",
       "\\hline\n",
       "\t -0.3315704 &  1.79648779 & -0.01457721 & -0.3710077 & -0.3714409 & -0.5910664 &  0.5038534 &  0.21000533 & 0\\\\\n",
       "\t -0.3117880 & -1.05148146 & -0.14765118 & -0.1177992 & -0.3227400 & -0.2387426 & -0.1235637 & -0.38763593 & 0\\\\\n",
       "\t  1.0023681 &  1.54814120 & -0.51479586 & -0.3905935 & -0.3051434 & -0.2789358 & -0.3089449 & -0.47677028 & 0\\\\\n",
       "\t -0.8684327 & -0.85755679 &  0.11245939 & -0.1061064 & -0.3882479 & -0.7646267 &  1.3195447 &  1.37486110 & 0\\\\\n",
       "\t -0.6797396 &  0.02068571 &  0.04782837 & -0.2203666 & -0.3728227 & -0.6071905 &  0.5138503 &  0.24723293 & 0\\\\\n",
       "\t -0.1468337 &  0.88480214 & -0.02641427 & -0.2601967 & -0.3493605 & -0.6101701 &  0.1558769 &  0.02927451 & 0\\\\\n",
       "\\end{tabular}\n"
      ],
      "text/markdown": [
       "\n",
       "A tibble: 6 × 9\n",
       "\n",
       "| mean_integrated &lt;dbl&gt; | sd_integrated &lt;dbl&gt; | kurtosis_integrated &lt;dbl&gt; | skew_integrated &lt;dbl&gt; | mean_DMSNR &lt;dbl&gt; | sd_DMSNR &lt;dbl&gt; | kurtosis_DMSNR &lt;dbl&gt; | skew_DMSNR &lt;dbl&gt; | target_class &lt;fct&gt; |\n",
       "|---|---|---|---|---|---|---|---|---|\n",
       "| -0.3315704 |  1.79648779 | -0.01457721 | -0.3710077 | -0.3714409 | -0.5910664 |  0.5038534 |  0.21000533 | 0 |\n",
       "| -0.3117880 | -1.05148146 | -0.14765118 | -0.1177992 | -0.3227400 | -0.2387426 | -0.1235637 | -0.38763593 | 0 |\n",
       "|  1.0023681 |  1.54814120 | -0.51479586 | -0.3905935 | -0.3051434 | -0.2789358 | -0.3089449 | -0.47677028 | 0 |\n",
       "| -0.8684327 | -0.85755679 |  0.11245939 | -0.1061064 | -0.3882479 | -0.7646267 |  1.3195447 |  1.37486110 | 0 |\n",
       "| -0.6797396 |  0.02068571 |  0.04782837 | -0.2203666 | -0.3728227 | -0.6071905 |  0.5138503 |  0.24723293 | 0 |\n",
       "| -0.1468337 |  0.88480214 | -0.02641427 | -0.2601967 | -0.3493605 | -0.6101701 |  0.1558769 |  0.02927451 | 0 |\n",
       "\n"
      ],
      "text/plain": [
       "  mean_integrated sd_integrated kurtosis_integrated skew_integrated mean_DMSNR\n",
       "1 -0.3315704       1.79648779   -0.01457721         -0.3710077      -0.3714409\n",
       "2 -0.3117880      -1.05148146   -0.14765118         -0.1177992      -0.3227400\n",
       "3  1.0023681       1.54814120   -0.51479586         -0.3905935      -0.3051434\n",
       "4 -0.8684327      -0.85755679    0.11245939         -0.1061064      -0.3882479\n",
       "5 -0.6797396       0.02068571    0.04782837         -0.2203666      -0.3728227\n",
       "6 -0.1468337       0.88480214   -0.02641427         -0.2601967      -0.3493605\n",
       "  sd_DMSNR   kurtosis_DMSNR skew_DMSNR  target_class\n",
       "1 -0.5910664  0.5038534      0.21000533 0           \n",
       "2 -0.2387426 -0.1235637     -0.38763593 0           \n",
       "3 -0.2789358 -0.3089449     -0.47677028 0           \n",
       "4 -0.7646267  1.3195447      1.37486110 0           \n",
       "5 -0.6071905  0.5138503      0.24723293 0           \n",
       "6 -0.6101701  0.1558769      0.02927451 0           "
      ]
     },
     "metadata": {},
     "output_type": "display_data"
    }
   ],
   "source": [
    "scale_transformer <- preProcess(training_set, method = c(\"center\", \"scale\")) \n",
    "training_set <- predict(scale_transformer, training_set)\n",
    "testing_set <- predict(scale_transformer, testing_set)\n",
    "\n",
    "head(training_set)"
   ]
  },
  {
   "cell_type": "markdown",
   "metadata": {},
   "source": [
    "**_Table 7 - Scaled training set_**"
   ]
  },
  {
   "cell_type": "code",
   "execution_count": 14,
   "metadata": {},
   "outputs": [
    {
     "data": {
      "text/html": [
       "<table>\n",
       "<caption>A tibble: 6 × 9</caption>\n",
       "<thead>\n",
       "\t<tr><th scope=col>mean_integrated</th><th scope=col>sd_integrated</th><th scope=col>kurtosis_integrated</th><th scope=col>skew_integrated</th><th scope=col>mean_DMSNR</th><th scope=col>sd_DMSNR</th><th scope=col>kurtosis_DMSNR</th><th scope=col>skew_DMSNR</th><th scope=col>target_class</th></tr>\n",
       "\t<tr><th scope=col>&lt;dbl&gt;</th><th scope=col>&lt;dbl&gt;</th><th scope=col>&lt;dbl&gt;</th><th scope=col>&lt;dbl&gt;</th><th scope=col>&lt;dbl&gt;</th><th scope=col>&lt;dbl&gt;</th><th scope=col>&lt;dbl&gt;</th><th scope=col>&lt;dbl&gt;</th><th scope=col>&lt;fct&gt;</th></tr>\n",
       "</thead>\n",
       "<tbody>\n",
       "\t<tr><td> 1.15088787</td><td> 1.3303012</td><td>-0.6705193</td><td>-0.4008447</td><td>-0.3200892</td><td>-0.3735531</td><td>-0.07061907</td><td>-0.28461654</td><td>0</td></tr>\n",
       "\t<tr><td> 0.32976853</td><td> 0.3219325</td><td>-0.4211923</td><td>-0.3058695</td><td>-0.3943108</td><td>-0.8766568</td><td> 2.40990329</td><td> 3.48906454</td><td>0</td></tr>\n",
       "\t<tr><td> 0.75432801</td><td>-0.9782583</td><td>-0.5990585</td><td>-0.2247608</td><td>-0.3868379</td><td>-0.6156926</td><td> 1.15828389</td><td> 0.86926296</td><td>0</td></tr>\n",
       "\t<tr><td> 0.06620687</td><td> 0.5458274</td><td>-0.1888297</td><td>-0.3085924</td><td>-0.1486914</td><td> 0.5834206</td><td>-0.79589039</td><td>-0.77751366</td><td>0</td></tr>\n",
       "\t<tr><td> 0.47494048</td><td> 0.6590336</td><td>-0.2825637</td><td>-0.3163967</td><td>-0.3569462</td><td>-0.4855601</td><td> 0.39426807</td><td> 0.07195222</td><td>0</td></tr>\n",
       "\t<tr><td>-0.03544393</td><td>-0.7634137</td><td>-0.3617732</td><td>-0.1773004</td><td>-0.3939442</td><td>-0.6849169</td><td> 1.40721628</td><td> 1.17605731</td><td>0</td></tr>\n",
       "</tbody>\n",
       "</table>\n"
      ],
      "text/latex": [
       "A tibble: 6 × 9\n",
       "\\begin{tabular}{r|lllllllll}\n",
       " mean\\_integrated & sd\\_integrated & kurtosis\\_integrated & skew\\_integrated & mean\\_DMSNR & sd\\_DMSNR & kurtosis\\_DMSNR & skew\\_DMSNR & target\\_class\\\\\n",
       " <dbl> & <dbl> & <dbl> & <dbl> & <dbl> & <dbl> & <dbl> & <dbl> & <fct>\\\\\n",
       "\\hline\n",
       "\t  1.15088787 &  1.3303012 & -0.6705193 & -0.4008447 & -0.3200892 & -0.3735531 & -0.07061907 & -0.28461654 & 0\\\\\n",
       "\t  0.32976853 &  0.3219325 & -0.4211923 & -0.3058695 & -0.3943108 & -0.8766568 &  2.40990329 &  3.48906454 & 0\\\\\n",
       "\t  0.75432801 & -0.9782583 & -0.5990585 & -0.2247608 & -0.3868379 & -0.6156926 &  1.15828389 &  0.86926296 & 0\\\\\n",
       "\t  0.06620687 &  0.5458274 & -0.1888297 & -0.3085924 & -0.1486914 &  0.5834206 & -0.79589039 & -0.77751366 & 0\\\\\n",
       "\t  0.47494048 &  0.6590336 & -0.2825637 & -0.3163967 & -0.3569462 & -0.4855601 &  0.39426807 &  0.07195222 & 0\\\\\n",
       "\t -0.03544393 & -0.7634137 & -0.3617732 & -0.1773004 & -0.3939442 & -0.6849169 &  1.40721628 &  1.17605731 & 0\\\\\n",
       "\\end{tabular}\n"
      ],
      "text/markdown": [
       "\n",
       "A tibble: 6 × 9\n",
       "\n",
       "| mean_integrated &lt;dbl&gt; | sd_integrated &lt;dbl&gt; | kurtosis_integrated &lt;dbl&gt; | skew_integrated &lt;dbl&gt; | mean_DMSNR &lt;dbl&gt; | sd_DMSNR &lt;dbl&gt; | kurtosis_DMSNR &lt;dbl&gt; | skew_DMSNR &lt;dbl&gt; | target_class &lt;fct&gt; |\n",
       "|---|---|---|---|---|---|---|---|---|\n",
       "|  1.15088787 |  1.3303012 | -0.6705193 | -0.4008447 | -0.3200892 | -0.3735531 | -0.07061907 | -0.28461654 | 0 |\n",
       "|  0.32976853 |  0.3219325 | -0.4211923 | -0.3058695 | -0.3943108 | -0.8766568 |  2.40990329 |  3.48906454 | 0 |\n",
       "|  0.75432801 | -0.9782583 | -0.5990585 | -0.2247608 | -0.3868379 | -0.6156926 |  1.15828389 |  0.86926296 | 0 |\n",
       "|  0.06620687 |  0.5458274 | -0.1888297 | -0.3085924 | -0.1486914 |  0.5834206 | -0.79589039 | -0.77751366 | 0 |\n",
       "|  0.47494048 |  0.6590336 | -0.2825637 | -0.3163967 | -0.3569462 | -0.4855601 |  0.39426807 |  0.07195222 | 0 |\n",
       "| -0.03544393 | -0.7634137 | -0.3617732 | -0.1773004 | -0.3939442 | -0.6849169 |  1.40721628 |  1.17605731 | 0 |\n",
       "\n"
      ],
      "text/plain": [
       "  mean_integrated sd_integrated kurtosis_integrated skew_integrated mean_DMSNR\n",
       "1  1.15088787      1.3303012    -0.6705193          -0.4008447      -0.3200892\n",
       "2  0.32976853      0.3219325    -0.4211923          -0.3058695      -0.3943108\n",
       "3  0.75432801     -0.9782583    -0.5990585          -0.2247608      -0.3868379\n",
       "4  0.06620687      0.5458274    -0.1888297          -0.3085924      -0.1486914\n",
       "5  0.47494048      0.6590336    -0.2825637          -0.3163967      -0.3569462\n",
       "6 -0.03544393     -0.7634137    -0.3617732          -0.1773004      -0.3939442\n",
       "  sd_DMSNR   kurtosis_DMSNR skew_DMSNR  target_class\n",
       "1 -0.3735531 -0.07061907    -0.28461654 0           \n",
       "2 -0.8766568  2.40990329     3.48906454 0           \n",
       "3 -0.6156926  1.15828389     0.86926296 0           \n",
       "4  0.5834206 -0.79589039    -0.77751366 0           \n",
       "5 -0.4855601  0.39426807     0.07195222 0           \n",
       "6 -0.6849169  1.40721628     1.17605731 0           "
      ]
     },
     "metadata": {},
     "output_type": "display_data"
    }
   ],
   "source": [
    "head(testing_set)"
   ]
  },
  {
   "cell_type": "markdown",
   "metadata": {},
   "source": [
    "**_Table 8 - Scaled testing set_**"
   ]
  },
  {
   "cell_type": "markdown",
   "metadata": {},
   "source": [
    "We separated our training and testing sets into their predictor variables (`X`) and class labels (`Y`): `X_train`, `Y_train`, `X_test` and `Y_test`  respectively. Here the X sets are left as data frame and the Y sets will t be converted into vectors."
   ]
  },
  {
   "cell_type": "code",
   "execution_count": 16,
   "metadata": {},
   "outputs": [],
   "source": [
    "X_train <- training_set %>%\n",
    "    select(-target_class) %>%\n",
    "    data.frame()\n",
    "\n",
    "Y_train <- training_set %>%\n",
    "    select(target_class) %>%\n",
    "    pull()\n",
    "\n",
    "X_test <- testing_set %>%\n",
    "    select(-target_class) %>%\n",
    "    data.frame()\n",
    "\n",
    "Y_test <- testing_set %>%\n",
    "    select(target_class) %>%\n",
    "    pull()"
   ]
  },
  {
   "cell_type": "markdown",
   "metadata": {},
   "source": [
    "### Model training and evaluating"
   ]
  },
  {
   "cell_type": "markdown",
   "metadata": {},
   "source": [
    "To get a k-nn classification model with the highest accuracy, we attempt to choose an optimal k value (the number of neighbor considered). To do so, we conducted 10-fold cross-validation with our training set. This was done using `trainControl`, which splits our data into 10 chunks with each iteration, with 1 chunk as the validation set and the remaining 9 chunks as the collective training set. We evaluated the accuracy of odd *K* values from 1 to 21 (to avoid ties), ending up with an optimal value of *K* = 7 and an accuracy of 0.978, as output below."
   ]
  },
  {
   "cell_type": "code",
   "execution_count": 17,
   "metadata": {},
   "outputs": [
    {
     "data": {
      "text/plain": [
       "k-Nearest Neighbors \n",
       "\n",
       "13422 samples\n",
       "    8 predictor\n",
       "    2 classes: '0', '1' \n",
       "\n",
       "No pre-processing\n",
       "Resampling: Cross-Validated (10 fold) \n",
       "Summary of sample sizes: 12079, 12080, 12080, 12081, 12079, 12079, ... \n",
       "Resampling results across tuning parameters:\n",
       "\n",
       "  k   Accuracy   Kappa    \n",
       "   1  0.9704973  0.8236986\n",
       "   3  0.9773516  0.8595972\n",
       "   5  0.9775746  0.8598071\n",
       "   7  0.9782455  0.8636576\n",
       "   9  0.9777239  0.8599183\n",
       "  11  0.9775750  0.8584981\n",
       "  13  0.9772769  0.8567455\n",
       "  15  0.9773513  0.8566143\n",
       "  17  0.9773514  0.8564961\n",
       "  19  0.9774260  0.8569194\n",
       "  21  0.9772769  0.8561246\n",
       "\n",
       "Accuracy was used to select the optimal model using the largest value.\n",
       "The final value used for the model was k = 7."
      ]
     },
     "metadata": {},
     "output_type": "display_data"
    }
   ],
   "source": [
    "# choose k from 1 to 20\n",
    "ks = data.frame(k = seq(1, 21, by = 2))\n",
    "\n",
    "train_control <- trainControl(method = \"cv\", number = 10)\n",
    "\n",
    "set.seed(12345)\n",
    "\n",
    "choose_k <- train(x = X_train, y = Y_train, method = \"knn\", tuneGrid = ks, trControl = train_control)\n",
    "choose_k"
   ]
  },
  {
   "cell_type": "code",
   "execution_count": 39,
   "metadata": {},
   "outputs": [
    {
     "data": {
      "image/png": "[encoded data removed]",
      "text/plain": [
       "plot without title"
      ]
     },
     "metadata": {},
     "output_type": "display_data"
    }
   ],
   "source": [
    "# visualization of how accuracy changes with k values\n",
    "k_Accuracy <- choose_k$results %>%\n",
    "                    select(k, Accuracy)\n",
    "options(repr.plot.height = 3, repr.plot.width = 3)\n",
    "choosing_k <- ggplot(k_Accuracy, aes(x = k, y = Accuracy)) +\n",
    "                geom_point() +\n",
    "                geom_line() +\n",
    "                xlab(\"K value\") +\n",
    "                ylab(\"Accuracy\") +\n",
    "                ggtitle(\"Classification Accuracy vs K-Value\") +\n",
    "                theme(plot.title = element_text(size = 10))\n",
    "choosing_k"
   ]
  },
  {
   "cell_type": "markdown",
   "metadata": {},
   "source": [
    "**_Figure 2 - Classification accuracy vs K-value from 10-fold cross validation on training set_**"
   ]
  },
  {
   "cell_type": "markdown",
   "metadata": {},
   "source": [
    "Using K = 7, we retrained our classifier on our training data. We then used a `confusionMatrix` to assess the quality of our model and visualize its analysis on both the training and testing sets. From this visualization, we were able to determine that our model has an accuracy of 0.981 with our training data, and an accuracy of 0.980 with our testing data."
   ]
  },
  {
   "cell_type": "code",
   "execution_count": 19,
   "metadata": {},
   "outputs": [
    {
     "name": "stdout",
     "output_type": "stream",
     "text": [
      "[1] \"training set prediction results\"\n"
     ]
    },
    {
     "data": {
      "text/plain": [
       "Confusion Matrix and Statistics\n",
       "\n",
       "          Reference\n",
       "Prediction     0     1\n",
       "         0 12118   196\n",
       "         1    58  1050\n",
       "                                          \n",
       "               Accuracy : 0.9811          \n",
       "                 95% CI : (0.9786, 0.9833)\n",
       "    No Information Rate : 0.9072          \n",
       "    P-Value [Acc > NIR] : < 2.2e-16       \n",
       "                                          \n",
       "                  Kappa : 0.8818          \n",
       "                                          \n",
       " Mcnemar's Test P-Value : < 2.2e-16       \n",
       "                                          \n",
       "            Sensitivity : 0.9952          \n",
       "            Specificity : 0.8427          \n",
       "         Pos Pred Value : 0.9841          \n",
       "         Neg Pred Value : 0.9477          \n",
       "             Prevalence : 0.9072          \n",
       "         Detection Rate : 0.9028          \n",
       "   Detection Prevalence : 0.9174          \n",
       "      Balanced Accuracy : 0.9190          \n",
       "                                          \n",
       "       'Positive' Class : 0               \n",
       "                                          "
      ]
     },
     "metadata": {},
     "output_type": "display_data"
    },
    {
     "name": "stdout",
     "output_type": "stream",
     "text": [
      "[1] \"testing set prediction results\"\n"
     ]
    },
    {
     "data": {
      "text/plain": [
       "Confusion Matrix and Statistics\n",
       "\n",
       "          Reference\n",
       "Prediction    0    1\n",
       "         0 4062   69\n",
       "         1   21  324\n",
       "                                          \n",
       "               Accuracy : 0.9799          \n",
       "                 95% CI : (0.9753, 0.9838)\n",
       "    No Information Rate : 0.9122          \n",
       "    P-Value [Acc > NIR] : < 2.2e-16       \n",
       "                                          \n",
       "                  Kappa : 0.8671          \n",
       "                                          \n",
       " Mcnemar's Test P-Value : 7.262e-07       \n",
       "                                          \n",
       "            Sensitivity : 0.9949          \n",
       "            Specificity : 0.8244          \n",
       "         Pos Pred Value : 0.9833          \n",
       "         Neg Pred Value : 0.9391          \n",
       "             Prevalence : 0.9122          \n",
       "         Detection Rate : 0.9075          \n",
       "   Detection Prevalence : 0.9229          \n",
       "      Balanced Accuracy : 0.9096          \n",
       "                                          \n",
       "       'Positive' Class : 0               \n",
       "                                          "
      ]
     },
     "metadata": {},
     "output_type": "display_data"
    }
   ],
   "source": [
    "set.seed(12345)\n",
    "best_k <- choose_k$results %>%\n",
    "    filter(Accuracy == max(Accuracy)) %>%\n",
    "    select(k) %>%\n",
    "    pull()\n",
    "\n",
    "final_k = data.frame(k = best_k)\n",
    "model  <- train(X_train, y = Y_train, method = \"knn\", tuneGrid = final_k)\n",
    "\n",
    "# using the model on training set\n",
    "print(\"training set prediction results\")\n",
    "train_pred <- predict(model, X_train)\n",
    "train_results <- confusionMatrix(train_pred, Y_train)\n",
    "\n",
    "train_results\n",
    "\n",
    "#using the model on the testing set\n",
    "print(\"testing set prediction results\")\n",
    "test_pred <- predict(model, X_test)\n",
    "test_results <- confusionMatrix(test_pred, Y_test)\n",
    "\n",
    "test_results"
   ]
  },
  {
   "cell_type": "markdown",
   "metadata": {},
   "source": [
    "### Visualization"
   ]
  },
  {
   "cell_type": "markdown",
   "metadata": {},
   "source": [
    "Finally, we visualize how accurate the predictions are across the reference classes. The plot shows that the model is very accurate on predicting false pulsar signals but tend to give proportionally more false negative predictions when it comes to a true signal."
   ]
  },
  {
   "cell_type": "code",
   "execution_count": 46,
   "metadata": {},
   "outputs": [
    {
     "data": {
      "text/html": [
       "<table>\n",
       "<caption>A grouped_df: 4 × 5</caption>\n",
       "<thead>\n",
       "\t<tr><th scope=col>Prediction</th><th scope=col>Reference</th><th scope=col>Freq</th><th scope=col>proportion</th><th scope=col>status</th></tr>\n",
       "\t<tr><th scope=col>&lt;fct&gt;</th><th scope=col>&lt;fct&gt;</th><th scope=col>&lt;int&gt;</th><th scope=col>&lt;dbl&gt;</th><th scope=col>&lt;lgl&gt;</th></tr>\n",
       "</thead>\n",
       "<tbody>\n",
       "\t<tr><td>0</td><td>0</td><td>4062</td><td>0.994856723</td><td> TRUE</td></tr>\n",
       "\t<tr><td>1</td><td>0</td><td>  21</td><td>0.005143277</td><td>FALSE</td></tr>\n",
       "\t<tr><td>0</td><td>1</td><td>  69</td><td>0.175572519</td><td>FALSE</td></tr>\n",
       "\t<tr><td>1</td><td>1</td><td> 324</td><td>0.824427481</td><td> TRUE</td></tr>\n",
       "</tbody>\n",
       "</table>\n"
      ],
      "text/latex": [
       "A grouped_df: 4 × 5\n",
       "\\begin{tabular}{r|lllll}\n",
       " Prediction & Reference & Freq & proportion & status\\\\\n",
       " <fct> & <fct> & <int> & <dbl> & <lgl>\\\\\n",
       "\\hline\n",
       "\t 0 & 0 & 4062 & 0.994856723 &  TRUE\\\\\n",
       "\t 1 & 0 &   21 & 0.005143277 & FALSE\\\\\n",
       "\t 0 & 1 &   69 & 0.175572519 & FALSE\\\\\n",
       "\t 1 & 1 &  324 & 0.824427481 &  TRUE\\\\\n",
       "\\end{tabular}\n"
      ],
      "text/markdown": [
       "\n",
       "A grouped_df: 4 × 5\n",
       "\n",
       "| Prediction &lt;fct&gt; | Reference &lt;fct&gt; | Freq &lt;int&gt; | proportion &lt;dbl&gt; | status &lt;lgl&gt; |\n",
       "|---|---|---|---|---|\n",
       "| 0 | 0 | 4062 | 0.994856723 |  TRUE |\n",
       "| 1 | 0 |   21 | 0.005143277 | FALSE |\n",
       "| 0 | 1 |   69 | 0.175572519 | FALSE |\n",
       "| 1 | 1 |  324 | 0.824427481 |  TRUE |\n",
       "\n"
      ],
      "text/plain": [
       "  Prediction Reference Freq proportion  status\n",
       "1 0          0         4062 0.994856723  TRUE \n",
       "2 1          0           21 0.005143277 FALSE \n",
       "3 0          1           69 0.175572519 FALSE \n",
       "4 1          1          324 0.824427481  TRUE "
      ]
     },
     "metadata": {},
     "output_type": "display_data"
    }
   ],
   "source": [
    "#data.frame(test_results$table)\n",
    "test_result_table <- data.frame(test_results$table) %>%\n",
    "    group_by(Reference) %>%\n",
    "    mutate(proportion = Freq / sum(Freq), status = (as.character(Reference) == as.character(Prediction)))\n",
    "test_result_table"
   ]
  },
  {
   "cell_type": "markdown",
   "metadata": {},
   "source": [
    "**_Table 9 - Prediction vs Reference by class label raw data_**"
   ]
  },
  {
   "cell_type": "code",
   "execution_count": 52,
   "metadata": {},
   "outputs": [
    {
     "data": {
      "image/png": "[encoded data removed]",
      "text/plain": [
       "plot without title"
      ]
     },
     "metadata": {},
     "output_type": "display_data"
    }
   ],
   "source": [
    "options(repr.plot.width = 3, repr.plot.height = 3)\n",
    "\n",
    "test_result_plot <- test_result_table %>%\n",
    "    ggplot(aes(x = Reference, y = proportion, fill = status))+\n",
    "    geom_bar(stat = 'identity') +\n",
    "    labs (x = \"Prediction\", y = \"Proportion\", fill = \"Is prediciton successful?\") +\n",
    "    ggtitle(\"Test Prediction Outcome\")\n",
    "test_result_plot"
   ]
  },
  {
   "cell_type": "markdown",
   "metadata": {},
   "source": [
    "**_Figure 3 - Prediction vs Reference by class label_**"
   ]
  },
  {
   "cell_type": "markdown",
   "metadata": {},
   "source": [
    "## Discussion"
   ]
  },
  {
   "cell_type": "markdown",
   "metadata": {},
   "source": [
    "_**Summarize what you found**_\n",
    "\n",
    "It was found that the K-nearest neighbours classifier developed in the Methods and Results section had an accuracy of 97.99%. This means that roughly every 49/50 predictions the classifier makes for if the source of a sample of radio-wave radiation is a pulsar or not will be correct, or, roughly 1/50 predictions will be incorrect.\n",
    "\n",
    "These accuracy figures were extracted from testing the classifier on a separated test set, sourced from the upsampled original dataset. The end result was the following confusion matrix, from which the classification accuracy was calculated:"
   ]
  },
  {
   "cell_type": "markdown",
   "metadata": {},
   "source": [
    "|   |   0  |  1  |\n",
    "|---|:----:|:---:|\n",
    "| **0** | 4062 |  69 |\n",
    "| **1** |  21  | 324 |"
   ]
  },
  {
   "cell_type": "markdown",
   "metadata": {},
   "source": [
    "<p style=\"text-align: center;\"><i><strong>Table 10 - Confusion matrix</strong></i></p>"
   ]
  },
  {
   "cell_type": "markdown",
   "metadata": {},
   "source": [
    "**_Discuss whether this is what you expected to find?_**\n",
    "\n",
    "A classifier with a decent accuracy is what we expected to develop, although, given the number of potential stars in the dataset, compared with the amount in the universe (billions), it was clear to us that any classifier we made would not have anywhere near perfect accuracy. To achieve that, we’d need much more data. \n",
    "\n",
    "The achieved classification accuracy of ~98% is certainly not bad. However, simply looking at the percentage is not a great way to gauge if the classifier is an acceptable one; what the classifier is classifying must be considered. For example, a spam email filter having 98% accuracy is great; the 2% that do get through; well, they’re just emails, not too high stakes. But 98% accuracy for a classifier that recognizes human pedestrians from other objects in a self-driving system would be absolutely unacceptable. If that system was put into wide use, that 2% would amount to thousands of pedestrians on the road going unrecognized by cars driving themselves. Not a good state of affairs. \n",
    "\n",
    "Thus, for recognizing pulsar stars from noise, our classifier certainly made some false predictions; a total of 90 out of 4,476 predictions were incorrect. When you think about it in this sense, looking at the raw numbers, it becomes clear that our classifier is not suitable for use, by, say, professional astronomers. 90 starts going being wrongly classified is no small figure. Yes, of course, there are billions of stars in the universe, so 90 is perhaps insignificant. However, if we are making the effort of classifying them in the first place, our standard of classification should not be so low that hundreds go wrongly classified, as is the case with this classifier.\n",
    "\n",
    "**_Discuss what impact could such findings have?_**\n",
    "\n",
    "However, our findings allow us to know one thing, and that is there are clear differences between the noise a pulsar star emits and other man made noise. Using these differences and a little bit of statistical analysis, we are able to almost always predict whether or not the radiation noise is coming from a star. For astronomers, this is good news. This means that not only can we accurately study pulsar stars instead of man made noise, we can also analyze the differences between the noises and speculate on why they occur. What our findings allow us to know is that there is definitely a difference, the next question would be finding out why that is.\n",
    "\n",
    "**_Discuss what future questions could this lead to?_**\n",
    "\n",
    "Being able to study pulsar stars allows us to understand the life cycle of stars, locate nearby star clusters, and measure other cosmic differences. It’s important for astronomers to be able to differentiate pulsar stars from other cosmic noises, and our findings are the beginning of it. However, our subset of data is still quite limited. Perhaps there are larger data frames that include soundwaves that are neither man-made or from pulsar stars. Perhaps there are different types of pulsar stars that emit different radioactive wavelengths. Perhaps all of the errors of our model come from pulsar stars a particular distance away. There are so many more questions left to be answered, and we hope that our findings, however small, contributes to the much larger and expansive picture of pulsar stars. "
   ]
  },
  {
   "cell_type": "markdown",
   "metadata": {},
   "source": [
    "## References"
   ]
  },
  {
   "cell_type": "markdown",
   "metadata": {},
   "source": [
    "**[1]** Cofield, C. (2016, April 22). What are pulsars? Space.com\n",
    "https://www.space.com/32661-pulsars.html\n",
    " \n",
    "**[2]** CSC2019 – Introduction to Machine Learning.\n",
    "https://as595.github.io/classification/?fbclid=IwAR2CAnxooYKNA-lbvnwBSvINUdYPq5LrxEsKZrFU2YTcImHPvJqBwyhSv1Q\n",
    " \n",
    "**[3]** R. J. Lyon, B. W. Stappers, S. Cooper, J. M. Brooke, J. D. Knowles, Fifty Years of Pulsar Candidate Selection: From simple filters to a new principled real-time classification approach, Monthly Notices of the Royal Astronomical Society 459 (1), 1104-1123, DOI: 10.1093/mnras/stw656\n",
    " \n",
    "**[4]** R. J. Lyon, HTRU2, DOI: 10.6084/m9.figshare.3080389.v1."
   ]
  }
 ],
 "metadata": {
  "kernelspec": {
   "display_name": "R",
   "language": "R",
   "name": "ir"
  },
  "language_info": {
   "codemirror_mode": "r",
   "file_extension": ".r",
   "mimetype": "text/x-r-source",
   "name": "R",
   "pygments_lexer": "r",
   "version": "3.6.1"
  }
 },
 "nbformat": 4,
 "nbformat_minor": 2
}
